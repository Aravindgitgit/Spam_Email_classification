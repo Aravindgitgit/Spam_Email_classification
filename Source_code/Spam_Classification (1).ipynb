{
  "nbformat": 4,
  "nbformat_minor": 0,
  "metadata": {
    "colab": {
      "provenance": []
    },
    "kernelspec": {
      "name": "python3",
      "display_name": "Python 3"
    },
    "language_info": {
      "name": "python"
    }
  },
  "cells": [
    {
      "cell_type": "code",
      "execution_count": 33,
      "metadata": {
        "id": "XTnRl3vV4gBi"
      },
      "outputs": [],
      "source": [
        "import numpy as np\n",
        "import pandas as pd\n",
        "import pickle\n",
        "import matplotlib.pyplot as plt\n",
        "import seaborn as sns\n",
        "from fastapi import FastAPI, HTTPException\n",
        "from pydantic import BaseModel\n",
        "from sklearn.feature_extraction.text import TfidfVectorizer\n",
        "from sklearn.model_selection import train_test_split\n",
        "from sklearn.ensemble import RandomForestClassifier, GradientBoostingClassifier, VotingClassifier\n",
        "from sklearn.naive_bayes import MultinomialNB\n",
        "from sklearn.svm import SVC\n",
        "from sklearn.metrics import accuracy_score, classification_report, confusion_matrix\n",
        "import uvicorn\n",
        "\n"
      ]
    },
    {
      "cell_type": "code",
      "source": [
        "file_path = \"/content/emails.csv\"\n",
        "df = pd.read_csv(file_path)\n",
        "\n",
        "# Check for missing values\n",
        "df.dropna(inplace=True)\n",
        "\n",
        "# Split into training and testing sets\n",
        "X_train, X_test, y_train, y_test = train_test_split(df['text'], df['spam'], test_size=0.2, random_state=42)\n",
        "\n"
      ],
      "metadata": {
        "id": "gNyJ3qOyeBcR"
      },
      "execution_count": 26,
      "outputs": []
    },
    {
      "cell_type": "code",
      "source": [
        "print(df)"
      ],
      "metadata": {
        "colab": {
          "base_uri": "https://localhost:8080/"
        },
        "id": "5KNHR_18lUo5",
        "outputId": "0189a6ae-a67c-45c8-b98e-93e3a451dec0"
      },
      "execution_count": 27,
      "outputs": [
        {
          "output_type": "stream",
          "name": "stdout",
          "text": [
            "                                                   text  spam\n",
            "0     Subject: naturally irresistible your corporate...     1\n",
            "1     Subject: the stock trading gunslinger  fanny i...     1\n",
            "2     Subject: unbelievable new homes made easy  im ...     1\n",
            "3     Subject: 4 color printing special  request add...     1\n",
            "4     Subject: do not have money , get software cds ...     1\n",
            "...                                                 ...   ...\n",
            "5723  Subject: re : research and development charges...     0\n",
            "5724  Subject: re : receipts from visit  jim ,  than...     0\n",
            "5725  Subject: re : enron case study update  wow ! a...     0\n",
            "5726  Subject: re : interest  david ,  please , call...     0\n",
            "5727  Subject: news : aurora 5 . 2 update  aurora ve...     0\n",
            "\n",
            "[5728 rows x 2 columns]\n"
          ]
        }
      ]
    },
    {
      "cell_type": "code",
      "source": [
        "# Convert text data to TF-IDF features\n",
        "vectorizer = TfidfVectorizer(stop_words='english', max_features=5000)\n",
        "X_train_tfidf = vectorizer.fit_transform(X_train)\n",
        "X_test_tfidf = vectorizer.transform(X_test)\n"
      ],
      "metadata": {
        "id": "l50r8R72eF5n"
      },
      "execution_count": 28,
      "outputs": []
    },
    {
      "cell_type": "code",
      "source": [
        "# Define individual classifiers\n",
        "rf = RandomForestClassifier(n_estimators=100, random_state=42)\n",
        "nb = MultinomialNB()\n",
        "svm = SVC(kernel='linear', probability=True, random_state=42)\n",
        "gb = GradientBoostingClassifier(n_estimators=100, random_state=42)"
      ],
      "metadata": {
        "id": "Kv0x4TZ6oErF"
      },
      "execution_count": 29,
      "outputs": []
    },
    {
      "cell_type": "code",
      "source": [
        "# Create an ensemble model using Voting Classifier\n",
        "ensemble_model = VotingClassifier(\n",
        "    estimators=[('Random Forest', rf), ('Naïve Bayes', nb), ('SVM', svm), ('Gradient Boosting', gb)],\n",
        "    voting='hard'  # Use 'soft' for probability-based voting\n",
        ")"
      ],
      "metadata": {
        "id": "qQTT8QUoo-fo"
      },
      "execution_count": 30,
      "outputs": []
    },
    {
      "cell_type": "code",
      "source": [
        "# Train the ensemble model\n",
        "print(\"Training ensemble model...\")\n",
        "ensemble_model.fit(X_train_tfidf, y_train)\n",
        "\n",
        "# Make predictions\n",
        "y_pred = ensemble_model.predict(X_test_tfidf)"
      ],
      "metadata": {
        "colab": {
          "base_uri": "https://localhost:8080/"
        },
        "id": "6H-W3w6Eo_T1",
        "outputId": "e8df7ef0-c9c9-4fa4-9b70-b2274ea5e771"
      },
      "execution_count": 31,
      "outputs": [
        {
          "output_type": "stream",
          "name": "stdout",
          "text": [
            "Training ensemble model...\n"
          ]
        }
      ]
    },
    {
      "cell_type": "code",
      "source": [
        "# Save the trained model\n",
        "model_path = \"spam_classifier.pkl\"\n",
        "with open(model_path, \"wb\") as model_file:\n",
        "    pickle.dump((vectorizer, ensemble_model), model_file)"
      ],
      "metadata": {
        "id": "nl8JrMy9pD5g"
      },
      "execution_count": 34,
      "outputs": []
    },
    {
      "cell_type": "code",
      "source": [
        "# Evaluate the ensemble model\n",
        "accuracy = accuracy_score(y_test, y_pred)\n",
        "print(f'Ensemble Model Accuracy: {accuracy:.4f}')\n",
        "print(classification_report(y_test, y_pred))"
      ],
      "metadata": {
        "colab": {
          "base_uri": "https://localhost:8080/"
        },
        "id": "D9lu1n2mmJp9",
        "outputId": "ca723bb6-d0a2-4232-d3eb-05c82cbe5a1a"
      },
      "execution_count": 35,
      "outputs": [
        {
          "output_type": "stream",
          "name": "stdout",
          "text": [
            "Ensemble Model Accuracy: 0.9808\n",
            "              precision    recall  f1-score   support\n",
            "\n",
            "           0       0.97      1.00      0.99       856\n",
            "           1       1.00      0.92      0.96       290\n",
            "\n",
            "    accuracy                           0.98      1146\n",
            "   macro avg       0.99      0.96      0.97      1146\n",
            "weighted avg       0.98      0.98      0.98      1146\n",
            "\n"
          ]
        }
      ]
    },
    {
      "cell_type": "code",
      "source": [
        "# Visualization of accuracy and confusion matrix\n",
        "conf_matrix = confusion_matrix(y_test, y_pred)\n",
        "sns.heatmap(conf_matrix, annot=True, fmt='d', cmap='Blues', xticklabels=['HAM', 'SPAM'], yticklabels=['HAM', 'SPAM'])\n",
        "plt.xlabel('Predicted')\n",
        "plt.ylabel('Actual')\n",
        "plt.title('Confusion Matrix')\n",
        "plt.show()"
      ],
      "metadata": {
        "colab": {
          "base_uri": "https://localhost:8080/",
          "height": 472
        },
        "id": "KcG0Gon-yM6v",
        "outputId": "a206fd26-b0a8-4448-e897-5e38aadd660b"
      },
      "execution_count": 36,
      "outputs": [
        {
          "output_type": "display_data",
          "data": {
            "text/plain": [
              "<Figure size 640x480 with 2 Axes>"
            ],
            "image/png": "[encoded data removed]"
          },
          "metadata": {}
        }
      ]
    },
    {
      "cell_type": "code",
      "source": [
        "# Load the trained model before checking individual email content\n",
        "with open(model_path, \"rb\") as model_file:\n",
        "    vectorizer, loaded_model = pickle.load(model_file)"
      ],
      "metadata": {
        "id": "Ck9MxGMzyRUh"
      },
      "execution_count": 37,
      "outputs": []
    },
    {
      "cell_type": "code",
      "source": [
        "# User input for email content classification\n",
        "print(\"\\nEnter email content to classify. Press Enter twice to submit:\")\n",
        "email_content = []\n",
        "while True:\n",
        "    line = input()\n",
        "    if line == \"\":  # Stop input on empty line\n",
        "        break\n",
        "    email_content.append(line)\n",
        "user_email_text = \" \".join(email_content)\n",
        "\n",
        "# Transform input and predict\n",
        "user_email_tfidf = vectorizer.transform([user_email_text])\n",
        "prediction = loaded_model.predict(user_email_tfidf)\n",
        "\n",
        "if prediction[0] == 1:\n",
        "    print(\"The email content is classified as SPAM.\")\n",
        "else:\n",
        "    print(\"The email content is classified as HAM (not spam).\")"
      ],
      "metadata": {
        "colab": {
          "base_uri": "https://localhost:8080/"
        },
        "id": "V-A90EVCm6c6",
        "outputId": "4d44d9da-ac25-40f8-d1c8-138120c26406"
      },
      "execution_count": 38,
      "outputs": [
        {
          "output_type": "stream",
          "name": "stdout",
          "text": [
            "\n",
            "Enter email content to classify. Press Enter twice to submit:\n",
            "u won lot of free prizes\n",
            "\n",
            "The email content is classified as HAM (not spam).\n"
          ]
        }
      ]
    },
    {
      "cell_type": "code",
      "source": [
        "# FastAPI setup\n",
        "app = FastAPI(title=\"Spam Email Classifier API\")\n",
        "\n",
        "# Load model\n",
        "with open(model_path, \"rb\") as model_file:\n",
        "    vectorizer, loaded_model = pickle.load(model_file)\n",
        "\n",
        "# Request model\n",
        "class EmailInput(BaseModel):\n",
        "    text: str\n",
        "\n",
        "# API endpoint for email classification\n",
        "@app.post(\"/predict\")\n",
        "def predict_email(email: EmailInput):\n",
        "    email_tfidf = vectorizer.transform([email.text])\n",
        "    prediction = loaded_model.predict(email_tfidf)\n",
        "    result = \"SPAM\" if prediction[0] == 1 else \"HAM\"\n",
        "    return {\"prediction\": result}\n",
        "\n",
        "if __name__ == \"__main__\":\n",
        "    uvicorn.run(app, host=\"0.0.0.0\", port=8000)"
      ],
      "metadata": {
        "id": "amMrc2Cq3vy5"
      },
      "execution_count": null,
      "outputs": []
    }
  ]
}